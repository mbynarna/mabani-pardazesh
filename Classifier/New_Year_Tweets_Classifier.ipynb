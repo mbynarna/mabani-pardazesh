{
  "nbformat": 4,
  "nbformat_minor": 0,
  "metadata": {
    "colab": {
      "provenance": [],
      "include_colab_link": true
    },
    "kernelspec": {
      "name": "python3",
      "display_name": "Python 3"
    },
    "language_info": {
      "name": "python"
    }
  },
  "cells": [
    {
      "cell_type": "markdown",
      "metadata": {
        "id": "view-in-github",
        "colab_type": "text"
      },
      "source": [
        "<a href=\"https://colab.research.google.com/github/mbynarna/mabani-pardazesh/blob/main/Classifier/New_Year_Tweets_Classifier.ipynb\" target=\"_parent\"><img src=\"https://colab.research.google.com/assets/colab-badge.svg\" alt=\"Open In Colab\"/></a>"
      ]
    },
    {
      "cell_type": "code",
      "execution_count": null,
      "metadata": {
        "colab": {
          "base_uri": "https://localhost:8080/"
        },
        "id": "Vr0KgDvMlVdY",
        "outputId": "992b3f57-26ca-4a03-c496-952634524bb2"
      },
      "outputs": [
        {
          "output_type": "stream",
          "name": "stderr",
          "text": [
            "[nltk_data] Downloading package stopwords to /root/nltk_data...\n",
            "[nltk_data]   Unzipping corpora/stopwords.zip.\n"
          ]
        }
      ],
      "source": [
        "import pandas as pd\n",
        "import re\n",
        "import nltk\n",
        "nltk.download('stopwords')\n",
        "from nltk.corpus import stopwords\n",
        "from nltk.stem.porter import PorterStemmer"
      ]
    },
    {
      "cell_type": "code",
      "source": [
        "messages = pd.read_csv('NewYearTweets_Genders.txt', sep='\\t', names=[\"label\", \"message\"], encoding='ISO-8859-1')\n",
        "messages"
      ],
      "metadata": {
        "colab": {
          "base_uri": "https://localhost:8080/",
          "height": 424
        },
        "id": "vD8yyKZ1lc_1",
        "outputId": "6833fe33-573f-4bea-db6d-975730c286c4"
      },
      "execution_count": null,
      "outputs": [
        {
          "output_type": "execute_result",
          "data": {
            "text/plain": [
              "       label                                            message\n",
              "0       male  #NewYearsResolution to not put the parking lot...\n",
              "1       male  I got the hair. I just need to work on the bod...\n",
              "2       male  Self improvement!.. Mentally, physically, and ...\n",
              "3       male  I've decided to get pregnant in #2015 #NewYear...\n",
              "4     female  All I want for Christmas is to be Carrie Under...\n",
              "...      ...                                                ...\n",
              "4718    male  My first New Years Resolution is to learn to a...\n",
              "4719  female  RT @rainsophie: umm so guys I've been thinking...\n",
              "4720  female  My New Years resolution is to get rid of my do...\n",
              "4721  female  RT @TheColIegeLife: New Years resolution: http...\n",
              "4722  female  My New Years resolution= own a 4-door jeep wra...\n",
              "\n",
              "[4723 rows x 2 columns]"
            ],
            "text/html": [
              "\n",
              "  <div id=\"df-f223ea08-ea66-4d14-bae1-377b5ecac77c\" class=\"colab-df-container\">\n",
              "    <div>\n",
              "<style scoped>\n",
              "    .dataframe tbody tr th:only-of-type {\n",
              "        vertical-align: middle;\n",
              "    }\n",
              "\n",
              "    .dataframe tbody tr th {\n",
              "        vertical-align: top;\n",
              "    }\n",
              "\n",
              "    .dataframe thead th {\n",
              "        text-align: right;\n",
              "    }\n",
              "</style>\n",
              "<table border=\"1\" class=\"dataframe\">\n",
              "  <thead>\n",
              "    <tr style=\"text-align: right;\">\n",
              "      <th></th>\n",
              "      <th>label</th>\n",
              "      <th>message</th>\n",
              "    </tr>\n",
              "  </thead>\n",
              "  <tbody>\n",
              "    <tr>\n",
              "      <th>0</th>\n",
              "      <td>male</td>\n",
              "      <td>#NewYearsResolution to not put the parking lot...</td>\n",
              "    </tr>\n",
              "    <tr>\n",
              "      <th>1</th>\n",
              "      <td>male</td>\n",
              "      <td>I got the hair. I just need to work on the bod...</td>\n",
              "    </tr>\n",
              "    <tr>\n",
              "      <th>2</th>\n",
              "      <td>male</td>\n",
              "      <td>Self improvement!.. Mentally, physically, and ...</td>\n",
              "    </tr>\n",
              "    <tr>\n",
              "      <th>3</th>\n",
              "      <td>male</td>\n",
              "      <td>I've decided to get pregnant in #2015 #NewYear...</td>\n",
              "    </tr>\n",
              "    <tr>\n",
              "      <th>4</th>\n",
              "      <td>female</td>\n",
              "      <td>All I want for Christmas is to be Carrie Under...</td>\n",
              "    </tr>\n",
              "    <tr>\n",
              "      <th>...</th>\n",
              "      <td>...</td>\n",
              "      <td>...</td>\n",
              "    </tr>\n",
              "    <tr>\n",
              "      <th>4718</th>\n",
              "      <td>male</td>\n",
              "      <td>My first New Years Resolution is to learn to a...</td>\n",
              "    </tr>\n",
              "    <tr>\n",
              "      <th>4719</th>\n",
              "      <td>female</td>\n",
              "      <td>RT @rainsophie: umm so guys I've been thinking...</td>\n",
              "    </tr>\n",
              "    <tr>\n",
              "      <th>4720</th>\n",
              "      <td>female</td>\n",
              "      <td>My New Years resolution is to get rid of my do...</td>\n",
              "    </tr>\n",
              "    <tr>\n",
              "      <th>4721</th>\n",
              "      <td>female</td>\n",
              "      <td>RT @TheColIegeLife: New Years resolution: http...</td>\n",
              "    </tr>\n",
              "    <tr>\n",
              "      <th>4722</th>\n",
              "      <td>female</td>\n",
              "      <td>My New Years resolution= own a 4-door jeep wra...</td>\n",
              "    </tr>\n",
              "  </tbody>\n",
              "</table>\n",
              "<p>4723 rows × 2 columns</p>\n",
              "</div>\n",
              "    <div class=\"colab-df-buttons\">\n",
              "\n",
              "  <div class=\"colab-df-container\">\n",
              "    <button class=\"colab-df-convert\" onclick=\"convertToInteractive('df-f223ea08-ea66-4d14-bae1-377b5ecac77c')\"\n",
              "            title=\"Convert this dataframe to an interactive table.\"\n",
              "            style=\"display:none;\">\n",
              "\n",
              "  <svg xmlns=\"http://www.w3.org/2000/svg\" height=\"24px\" viewBox=\"0 -960 960 960\">\n",
              "    <path d=\"M120-120v-720h720v720H120Zm60-500h600v-160H180v160Zm220 220h160v-160H400v160Zm0 220h160v-160H400v160ZM180-400h160v-160H180v160Zm440 0h160v-160H620v160ZM180-180h160v-160H180v160Zm440 0h160v-160H620v160Z\"/>\n",
              "  </svg>\n",
              "    </button>\n",
              "\n",
              "  <style>\n",
              "    .colab-df-container {\n",
              "      display:flex;\n",
              "      gap: 12px;\n",
              "    }\n",
              "\n",
              "    .colab-df-convert {\n",
              "      background-color: #E8F0FE;\n",
              "      border: none;\n",
              "      border-radius: 50%;\n",
              "      cursor: pointer;\n",
              "      display: none;\n",
              "      fill: #1967D2;\n",
              "      height: 32px;\n",
              "      padding: 0 0 0 0;\n",
              "      width: 32px;\n",
              "    }\n",
              "\n",
              "    .colab-df-convert:hover {\n",
              "      background-color: #E2EBFA;\n",
              "      box-shadow: 0px 1px 2px rgba(60, 64, 67, 0.3), 0px 1px 3px 1px rgba(60, 64, 67, 0.15);\n",
              "      fill: #174EA6;\n",
              "    }\n",
              "\n",
              "    .colab-df-buttons div {\n",
              "      margin-bottom: 4px;\n",
              "    }\n",
              "\n",
              "    [theme=dark] .colab-df-convert {\n",
              "      background-color: #3B4455;\n",
              "      fill: #D2E3FC;\n",
              "    }\n",
              "\n",
              "    [theme=dark] .colab-df-convert:hover {\n",
              "      background-color: #434B5C;\n",
              "      box-shadow: 0px 1px 3px 1px rgba(0, 0, 0, 0.15);\n",
              "      filter: drop-shadow(0px 1px 2px rgba(0, 0, 0, 0.3));\n",
              "      fill: #FFFFFF;\n",
              "    }\n",
              "  </style>\n",
              "\n",
              "    <script>\n",
              "      const buttonEl =\n",
              "        document.querySelector('#df-f223ea08-ea66-4d14-bae1-377b5ecac77c button.colab-df-convert');\n",
              "      buttonEl.style.display =\n",
              "        google.colab.kernel.accessAllowed ? 'block' : 'none';\n",
              "\n",
              "      async function convertToInteractive(key) {\n",
              "        const element = document.querySelector('#df-f223ea08-ea66-4d14-bae1-377b5ecac77c');\n",
              "        const dataTable =\n",
              "          await google.colab.kernel.invokeFunction('convertToInteractive',\n",
              "                                                    [key], {});\n",
              "        if (!dataTable) return;\n",
              "\n",
              "        const docLinkHtml = 'Like what you see? Visit the ' +\n",
              "          '<a target=\"_blank\" href=https://colab.research.google.com/notebooks/data_table.ipynb>data table notebook</a>'\n",
              "          + ' to learn more about interactive tables.';\n",
              "        element.innerHTML = '';\n",
              "        dataTable['output_type'] = 'display_data';\n",
              "        await google.colab.output.renderOutput(dataTable, element);\n",
              "        const docLink = document.createElement('div');\n",
              "        docLink.innerHTML = docLinkHtml;\n",
              "        element.appendChild(docLink);\n",
              "      }\n",
              "    </script>\n",
              "  </div>\n",
              "\n",
              "\n",
              "<div id=\"df-9838d7aa-6f5d-4e67-ab91-27112fa15189\">\n",
              "  <button class=\"colab-df-quickchart\" onclick=\"quickchart('df-9838d7aa-6f5d-4e67-ab91-27112fa15189')\"\n",
              "            title=\"Suggest charts\"\n",
              "            style=\"display:none;\">\n",
              "\n",
              "<svg xmlns=\"http://www.w3.org/2000/svg\" height=\"24px\"viewBox=\"0 0 24 24\"\n",
              "     width=\"24px\">\n",
              "    <g>\n",
              "        <path d=\"M19 3H5c-1.1 0-2 .9-2 2v14c0 1.1.9 2 2 2h14c1.1 0 2-.9 2-2V5c0-1.1-.9-2-2-2zM9 17H7v-7h2v7zm4 0h-2V7h2v10zm4 0h-2v-4h2v4z\"/>\n",
              "    </g>\n",
              "</svg>\n",
              "  </button>\n",
              "\n",
              "<style>\n",
              "  .colab-df-quickchart {\n",
              "      --bg-color: #E8F0FE;\n",
              "      --fill-color: #1967D2;\n",
              "      --hover-bg-color: #E2EBFA;\n",
              "      --hover-fill-color: #174EA6;\n",
              "      --disabled-fill-color: #AAA;\n",
              "      --disabled-bg-color: #DDD;\n",
              "  }\n",
              "\n",
              "  [theme=dark] .colab-df-quickchart {\n",
              "      --bg-color: #3B4455;\n",
              "      --fill-color: #D2E3FC;\n",
              "      --hover-bg-color: #434B5C;\n",
              "      --hover-fill-color: #FFFFFF;\n",
              "      --disabled-bg-color: #3B4455;\n",
              "      --disabled-fill-color: #666;\n",
              "  }\n",
              "\n",
              "  .colab-df-quickchart {\n",
              "    background-color: var(--bg-color);\n",
              "    border: none;\n",
              "    border-radius: 50%;\n",
              "    cursor: pointer;\n",
              "    display: none;\n",
              "    fill: var(--fill-color);\n",
              "    height: 32px;\n",
              "    padding: 0;\n",
              "    width: 32px;\n",
              "  }\n",
              "\n",
              "  .colab-df-quickchart:hover {\n",
              "    background-color: var(--hover-bg-color);\n",
              "    box-shadow: 0 1px 2px rgba(60, 64, 67, 0.3), 0 1px 3px 1px rgba(60, 64, 67, 0.15);\n",
              "    fill: var(--button-hover-fill-color);\n",
              "  }\n",
              "\n",
              "  .colab-df-quickchart-complete:disabled,\n",
              "  .colab-df-quickchart-complete:disabled:hover {\n",
              "    background-color: var(--disabled-bg-color);\n",
              "    fill: var(--disabled-fill-color);\n",
              "    box-shadow: none;\n",
              "  }\n",
              "\n",
              "  .colab-df-spinner {\n",
              "    border: 2px solid var(--fill-color);\n",
              "    border-color: transparent;\n",
              "    border-bottom-color: var(--fill-color);\n",
              "    animation:\n",
              "      spin 1s steps(1) infinite;\n",
              "  }\n",
              "\n",
              "  @keyframes spin {\n",
              "    0% {\n",
              "      border-color: transparent;\n",
              "      border-bottom-color: var(--fill-color);\n",
              "      border-left-color: var(--fill-color);\n",
              "    }\n",
              "    20% {\n",
              "      border-color: transparent;\n",
              "      border-left-color: var(--fill-color);\n",
              "      border-top-color: var(--fill-color);\n",
              "    }\n",
              "    30% {\n",
              "      border-color: transparent;\n",
              "      border-left-color: var(--fill-color);\n",
              "      border-top-color: var(--fill-color);\n",
              "      border-right-color: var(--fill-color);\n",
              "    }\n",
              "    40% {\n",
              "      border-color: transparent;\n",
              "      border-right-color: var(--fill-color);\n",
              "      border-top-color: var(--fill-color);\n",
              "    }\n",
              "    60% {\n",
              "      border-color: transparent;\n",
              "      border-right-color: var(--fill-color);\n",
              "    }\n",
              "    80% {\n",
              "      border-color: transparent;\n",
              "      border-right-color: var(--fill-color);\n",
              "      border-bottom-color: var(--fill-color);\n",
              "    }\n",
              "    90% {\n",
              "      border-color: transparent;\n",
              "      border-bottom-color: var(--fill-color);\n",
              "    }\n",
              "  }\n",
              "</style>\n",
              "\n",
              "  <script>\n",
              "    async function quickchart(key) {\n",
              "      const quickchartButtonEl =\n",
              "        document.querySelector('#' + key + ' button');\n",
              "      quickchartButtonEl.disabled = true;  // To prevent multiple clicks.\n",
              "      quickchartButtonEl.classList.add('colab-df-spinner');\n",
              "      try {\n",
              "        const charts = await google.colab.kernel.invokeFunction(\n",
              "            'suggestCharts', [key], {});\n",
              "      } catch (error) {\n",
              "        console.error('Error during call to suggestCharts:', error);\n",
              "      }\n",
              "      quickchartButtonEl.classList.remove('colab-df-spinner');\n",
              "      quickchartButtonEl.classList.add('colab-df-quickchart-complete');\n",
              "    }\n",
              "    (() => {\n",
              "      let quickchartButtonEl =\n",
              "        document.querySelector('#df-9838d7aa-6f5d-4e67-ab91-27112fa15189 button');\n",
              "      quickchartButtonEl.style.display =\n",
              "        google.colab.kernel.accessAllowed ? 'block' : 'none';\n",
              "    })();\n",
              "  </script>\n",
              "</div>\n",
              "    </div>\n",
              "  </div>\n"
            ],
            "application/vnd.google.colaboratory.intrinsic+json": {
              "type": "dataframe",
              "variable_name": "messages",
              "summary": "{\n  \"name\": \"messages\",\n  \"rows\": 4723,\n  \"fields\": [\n    {\n      \"column\": \"label\",\n      \"properties\": {\n        \"dtype\": \"category\",\n        \"num_unique_values\": 2,\n        \"samples\": [\n          \"female\",\n          \"male\"\n        ],\n        \"semantic_type\": \"\",\n        \"description\": \"\"\n      }\n    },\n    {\n      \"column\": \"message\",\n      \"properties\": {\n        \"dtype\": \"string\",\n        \"num_unique_values\": 4723,\n        \"samples\": [\n          \"#FriendsOnNetflix finally! And with that being said my #NewYearsResolution is to have a group of friends like #Friends #NewYears\",\n          \"My #NewYearsResolution is to continue in school to finish my bachelor's degree in business! #BRTrend Education is the key!_\\u00d9_\\u00d2_\\u00d9\\u00d2_\"\n        ],\n        \"semantic_type\": \"\",\n        \"description\": \"\"\n      }\n    }\n  ]\n}"
            }
          },
          "metadata": {},
          "execution_count": 4
        }
      ]
    },
    {
      "cell_type": "code",
      "source": [
        "ps = PorterStemmer()\n",
        "corpus = []\n",
        "for i in range(0, len(messages)):\n",
        "    review = re.sub('[^a-zA-Z]', ' ', messages['message'][i])\n",
        "    review = review.lower()\n",
        "    review = review.split()\n",
        "    review = [ps.stem(word) for word in review if not word in stopwords.words('english')]\n",
        "    review = ' '.join(review)\n",
        "    corpus.append(review)"
      ],
      "metadata": {
        "id": "Oh21zsKkle73"
      },
      "execution_count": null,
      "outputs": []
    },
    {
      "cell_type": "code",
      "source": [
        "from sklearn.feature_extraction.text import CountVectorizer\n",
        "cv = CountVectorizer(max_features=5000)\n",
        "X = cv.fit_transform(corpus).toarray()\n",
        "X"
      ],
      "metadata": {
        "colab": {
          "base_uri": "https://localhost:8080/"
        },
        "id": "7a_rRYTNlsTU",
        "outputId": "b0f6420e-e81d-4d6e-be00-5e83d9ae4f23"
      },
      "execution_count": null,
      "outputs": [
        {
          "output_type": "execute_result",
          "data": {
            "text/plain": [
              "array([[0, 0, 0, ..., 0, 0, 0],\n",
              "       [0, 0, 0, ..., 0, 0, 0],\n",
              "       [0, 0, 0, ..., 0, 0, 0],\n",
              "       ...,\n",
              "       [0, 0, 0, ..., 0, 0, 0],\n",
              "       [0, 0, 0, ..., 0, 0, 0],\n",
              "       [0, 0, 0, ..., 0, 0, 0]])"
            ]
          },
          "metadata": {},
          "execution_count": 6
        }
      ]
    },
    {
      "cell_type": "code",
      "source": [
        "y = pd.get_dummies(messages['label'])\n",
        "y = y.iloc[:,1].values\n",
        "y"
      ],
      "metadata": {
        "colab": {
          "base_uri": "https://localhost:8080/"
        },
        "id": "BsE31bRzl2v1",
        "outputId": "a3100e58-aa3a-4009-b882-d6fd35dd3560"
      },
      "execution_count": null,
      "outputs": [
        {
          "output_type": "execute_result",
          "data": {
            "text/plain": [
              "array([ True,  True,  True, ..., False, False, False])"
            ]
          },
          "metadata": {},
          "execution_count": 7
        }
      ]
    },
    {
      "cell_type": "code",
      "source": [
        "from sklearn.model_selection import train_test_split\n",
        "X_train, X_test, y_train, y_test = train_test_split(X, y, test_size = 0.20, random_state=0)"
      ],
      "metadata": {
        "id": "KG-CjE32l81W"
      },
      "execution_count": null,
      "outputs": []
    },
    {
      "cell_type": "code",
      "source": [
        "from sklearn.naive_bayes import MultinomialNB\n",
        "spam_detect_model = MultinomialNB().fit(X_train, y_train)\n",
        "\n",
        "y_pred = spam_detect_model.predict(X_test)\n",
        "y_pred"
      ],
      "metadata": {
        "colab": {
          "base_uri": "https://localhost:8080/"
        },
        "id": "c-L1Dc22l_Ns",
        "outputId": "8a37db88-157a-45da-8716-b1d7fcb44822"
      },
      "execution_count": null,
      "outputs": [
        {
          "output_type": "execute_result",
          "data": {
            "text/plain": [
              "array([False, False,  True,  True,  True,  True,  True,  True, False,\n",
              "       False, False,  True, False, False, False, False,  True,  True,\n",
              "       False,  True, False, False,  True,  True,  True,  True,  True,\n",
              "        True, False,  True,  True, False, False, False,  True, False,\n",
              "       False, False,  True,  True, False,  True,  True, False,  True,\n",
              "        True,  True,  True,  True, False, False, False,  True, False,\n",
              "        True, False, False,  True, False, False,  True, False,  True,\n",
              "        True, False, False,  True, False,  True,  True,  True,  True,\n",
              "       False,  True,  True,  True, False,  True, False,  True, False,\n",
              "       False, False,  True,  True, False, False,  True,  True,  True,\n",
              "       False,  True,  True, False, False,  True, False,  True, False,\n",
              "       False,  True,  True, False, False, False, False,  True, False,\n",
              "       False,  True,  True, False, False, False,  True,  True, False,\n",
              "        True,  True, False,  True,  True,  True,  True,  True, False,\n",
              "        True, False, False,  True, False, False, False,  True, False,\n",
              "        True, False,  True,  True, False, False,  True, False, False,\n",
              "        True, False,  True, False, False, False,  True,  True,  True,\n",
              "        True,  True, False, False, False, False, False, False,  True,\n",
              "       False, False, False, False, False, False,  True,  True,  True,\n",
              "        True,  True,  True, False,  True, False,  True,  True,  True,\n",
              "       False, False,  True,  True, False, False, False,  True,  True,\n",
              "        True, False,  True,  True,  True, False,  True, False, False,\n",
              "        True,  True, False,  True,  True, False, False, False, False,\n",
              "       False,  True, False,  True,  True, False,  True, False,  True,\n",
              "       False, False,  True, False,  True,  True,  True,  True, False,\n",
              "        True, False, False, False, False,  True,  True,  True,  True,\n",
              "       False,  True,  True, False,  True,  True, False, False, False,\n",
              "       False, False, False, False, False,  True, False, False, False,\n",
              "       False, False,  True,  True, False,  True,  True, False,  True,\n",
              "        True, False, False,  True, False, False,  True,  True, False,\n",
              "       False,  True, False, False,  True, False,  True,  True, False,\n",
              "        True,  True,  True,  True,  True, False, False, False, False,\n",
              "       False, False, False,  True,  True, False, False, False,  True,\n",
              "       False, False, False, False, False,  True,  True, False, False,\n",
              "       False, False, False,  True, False, False,  True,  True, False,\n",
              "       False, False, False, False, False, False, False,  True,  True,\n",
              "        True,  True, False,  True,  True, False, False,  True, False,\n",
              "        True,  True, False, False, False, False, False, False,  True,\n",
              "       False,  True,  True, False,  True,  True,  True, False, False,\n",
              "       False,  True, False,  True, False,  True,  True,  True, False,\n",
              "       False,  True,  True,  True,  True, False, False, False, False,\n",
              "       False, False,  True, False, False,  True,  True,  True,  True,\n",
              "        True,  True, False, False, False,  True,  True, False,  True,\n",
              "        True, False,  True, False,  True, False, False,  True,  True,\n",
              "       False,  True, False,  True,  True, False,  True, False,  True,\n",
              "       False, False, False, False, False,  True,  True,  True, False,\n",
              "       False, False,  True, False, False,  True, False,  True, False,\n",
              "       False, False,  True, False,  True, False,  True,  True, False,\n",
              "       False,  True, False,  True,  True,  True,  True,  True, False,\n",
              "        True,  True, False,  True, False,  True,  True, False, False,\n",
              "       False, False, False,  True, False,  True,  True, False,  True,\n",
              "       False,  True,  True,  True,  True, False, False, False,  True,\n",
              "       False, False,  True,  True,  True, False, False, False,  True,\n",
              "        True, False,  True, False,  True, False, False,  True,  True,\n",
              "       False,  True, False,  True,  True, False,  True,  True, False,\n",
              "        True,  True, False,  True, False,  True,  True, False, False,\n",
              "        True, False, False, False, False,  True,  True,  True, False,\n",
              "        True,  True, False,  True, False, False,  True, False, False,\n",
              "       False, False, False, False,  True, False, False,  True,  True,\n",
              "        True, False,  True,  True,  True, False, False,  True, False,\n",
              "        True, False,  True,  True, False,  True,  True,  True,  True,\n",
              "        True,  True, False, False, False, False,  True, False,  True,\n",
              "        True,  True, False, False,  True,  True,  True,  True,  True,\n",
              "        True,  True,  True,  True, False,  True,  True,  True,  True,\n",
              "       False,  True, False,  True,  True, False, False, False, False,\n",
              "       False,  True, False,  True, False, False, False, False, False,\n",
              "        True, False,  True,  True, False,  True,  True,  True, False,\n",
              "       False, False, False, False,  True,  True, False, False,  True,\n",
              "       False,  True, False, False,  True, False,  True, False,  True,\n",
              "        True,  True, False,  True,  True,  True, False, False, False,\n",
              "       False, False,  True, False,  True,  True,  True,  True,  True,\n",
              "       False, False,  True,  True, False,  True, False, False, False,\n",
              "       False,  True, False, False,  True,  True,  True, False, False,\n",
              "        True,  True, False,  True, False,  True,  True,  True, False,\n",
              "        True, False, False, False,  True, False,  True, False, False,\n",
              "       False, False,  True, False,  True, False, False, False, False,\n",
              "       False, False,  True,  True, False,  True, False, False, False,\n",
              "        True,  True, False, False,  True,  True,  True, False, False,\n",
              "        True, False, False,  True,  True, False,  True, False, False,\n",
              "        True,  True, False, False,  True, False, False, False,  True,\n",
              "       False,  True, False,  True,  True, False,  True, False,  True,\n",
              "        True, False,  True,  True, False, False, False, False,  True,\n",
              "        True,  True,  True,  True, False, False,  True, False, False,\n",
              "       False,  True,  True,  True, False,  True,  True, False, False,\n",
              "        True,  True, False, False,  True, False,  True, False, False,\n",
              "       False, False,  True, False, False, False, False,  True, False,\n",
              "       False, False,  True,  True, False, False,  True, False, False,\n",
              "       False, False,  True, False, False, False,  True,  True,  True,\n",
              "       False,  True,  True,  True,  True,  True,  True,  True, False,\n",
              "        True, False, False,  True,  True, False, False,  True,  True,\n",
              "       False, False,  True, False,  True,  True, False, False, False,\n",
              "       False,  True,  True, False, False, False,  True, False,  True,\n",
              "        True, False,  True,  True,  True,  True, False,  True, False,\n",
              "       False, False,  True,  True, False, False, False, False,  True,\n",
              "        True,  True,  True, False, False,  True, False,  True,  True,\n",
              "        True,  True,  True,  True, False, False, False, False, False,\n",
              "        True, False,  True,  True, False, False,  True, False, False,\n",
              "        True,  True,  True,  True, False, False,  True, False, False,\n",
              "        True, False, False, False,  True, False, False, False, False,\n",
              "        True,  True,  True,  True,  True, False,  True, False, False,\n",
              "       False, False, False, False, False, False,  True, False, False,\n",
              "       False,  True, False, False,  True,  True,  True, False,  True,\n",
              "       False, False,  True, False,  True, False, False, False,  True,\n",
              "        True, False,  True, False, False, False,  True, False,  True,\n",
              "        True, False,  True, False,  True,  True,  True,  True, False])"
            ]
          },
          "metadata": {},
          "execution_count": 9
        }
      ]
    },
    {
      "cell_type": "code",
      "source": [
        "from sklearn.metrics import confusion_matrix\n",
        "confusion_m = confusion_matrix(y_test, y_pred)\n",
        "confusion_m"
      ],
      "metadata": {
        "colab": {
          "base_uri": "https://localhost:8080/"
        },
        "id": "UtX0isPtmChM",
        "outputId": "09d22f00-7c46-4593-ad64-efb312485eab"
      },
      "execution_count": null,
      "outputs": [
        {
          "output_type": "execute_result",
          "data": {
            "text/plain": [
              "array([[271, 183],\n",
              "       [219, 272]])"
            ]
          },
          "metadata": {},
          "execution_count": 10
        }
      ]
    },
    {
      "cell_type": "code",
      "source": [
        "from sklearn.metrics import accuracy_score\n",
        "accuracy = accuracy_score(y_test, y_pred)\n",
        "accuracy"
      ],
      "metadata": {
        "colab": {
          "base_uri": "https://localhost:8080/"
        },
        "id": "E1RM2lxPmD_1",
        "outputId": "bdd98c3e-123f-4f6b-c05a-d4279eacbf3a"
      },
      "execution_count": null,
      "outputs": [
        {
          "output_type": "execute_result",
          "data": {
            "text/plain": [
              "0.5746031746031746"
            ]
          },
          "metadata": {},
          "execution_count": 11
        }
      ]
    },
    {
      "cell_type": "code",
      "source": [],
      "metadata": {
        "id": "866xaP5emF9L"
      },
      "execution_count": null,
      "outputs": []
    }
  ]
}