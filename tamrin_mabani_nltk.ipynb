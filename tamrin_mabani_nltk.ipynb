{
  "nbformat": 4,
  "nbformat_minor": 0,
  "metadata": {
    "colab": {
      "provenance": [],
      "include_colab_link": true
    },
    "kernelspec": {
      "name": "python3",
      "display_name": "Python 3"
    },
    "language_info": {
      "name": "python"
    }
  },
  "cells": [
    {
      "cell_type": "markdown",
      "metadata": {
        "id": "view-in-github",
        "colab_type": "text"
      },
      "source": [
        "<a href=\"https://colab.research.google.com/github/mbynarna/mabani-pardazesh/blob/main/tamrin_mabani_nltk.ipynb\" target=\"_parent\"><img src=\"https://colab.research.google.com/assets/colab-badge.svg\" alt=\"Open In Colab\"/></a>"
      ]
    },
    {
      "cell_type": "code",
      "execution_count": 1,
      "metadata": {
        "colab": {
          "base_uri": "https://localhost:8080/"
        },
        "id": "zuWCRMgltAeC",
        "outputId": "cc0d6858-4e35-4e6f-9e43-3b19729a480a"
      },
      "outputs": [
        {
          "output_type": "stream",
          "name": "stderr",
          "text": [
            "[nltk_data] Downloading package punkt to /root/nltk_data...\n",
            "[nltk_data]   Unzipping tokenizers/punkt.zip.\n"
          ]
        },
        {
          "output_type": "execute_result",
          "data": {
            "text/plain": [
              "True"
            ]
          },
          "metadata": {},
          "execution_count": 1
        }
      ],
      "source": [
        "import nltk\n",
        "nltk.download('punkt')"
      ]
    },
    {
      "cell_type": "code",
      "source": [
        "paragraph = \"\"\"A book is a medium for recording information in the form of writing or images. Books are typically composed of many pages, bound together and protected by a cover. Modern bound books were preceded by many other written mediums, such as the codex and the scroll. The book publishing process is the series of steps involved in their creation and dissemination.\n",
        "As a conceptual object, a book typically refers to a written work of substantial length, which may be distributed either physically or in digital forms like ebooks. These works are broadly classified into fiction (containing imaginary content) and non-fiction (containing content representing truths). Many smaller categories exist within these, such as children's literature meant to match the reading level and interests of children, or reference works that gather collections of non-fiction. Books are traded at both regular stores and specialized bookstores, and people can borrow them from libraries. The reception of books has led to a number of social consequences, including censorship.\n",
        "A physical book does not need to contain written works: for example, it may contain only drawings, engravings, photographs, puzzles, or removable content like paper dolls. Physical books may be left empty to be used for writing or drawing, such as account books, appointment books, autograph books, notebooks, diaries and sketchbooks.\"\"\""
      ],
      "metadata": {
        "id": "uYdHOuiStU5S"
      },
      "execution_count": 2,
      "outputs": []
    },
    {
      "cell_type": "code",
      "source": [
        "#Tokenizing sentences\n",
        "sentences = nltk.sent_tokenize(paragraph)\n",
        "sentences"
      ],
      "metadata": {
        "colab": {
          "base_uri": "https://localhost:8080/"
        },
        "id": "YXnP3yDJuJCc",
        "outputId": "7d8f4673-5fd7-41a7-cf36-192689803048"
      },
      "execution_count": 3,
      "outputs": [
        {
          "output_type": "execute_result",
          "data": {
            "text/plain": [
              "['A book is a medium for recording information in the form of writing or images.',\n",
              " 'Books are typically composed of many pages, bound together and protected by a cover.',\n",
              " 'Modern bound books were preceded by many other written mediums, such as the codex and the scroll.',\n",
              " 'The book publishing process is the series of steps involved in their creation and dissemination.',\n",
              " 'As a conceptual object, a book typically refers to a written work of substantial length, which may be distributed either physically or in digital forms like ebooks.',\n",
              " 'These works are broadly classified into fiction (containing imaginary content) and non-fiction (containing content representing truths).',\n",
              " \"Many smaller categories exist within these, such as children's literature meant to match the reading level and interests of children, or reference works that gather collections of non-fiction.\",\n",
              " 'Books are traded at both regular stores and specialized bookstores, and people can borrow them from libraries.',\n",
              " 'The reception of books has led to a number of social consequences, including censorship.',\n",
              " 'A physical book does not need to contain written works: for example, it may contain only drawings, engravings, photographs, puzzles, or removable content like paper dolls.',\n",
              " 'Physical books may be left empty to be used for writing or drawing, such as account books, appointment books, autograph books, notebooks, diaries and sketchbooks.']"
            ]
          },
          "metadata": {},
          "execution_count": 3
        }
      ]
    },
    {
      "cell_type": "code",
      "source": [
        "#Tokenizing words\n",
        "words = nltk.word_tokenize(paragraph)\n",
        "words"
      ],
      "metadata": {
        "colab": {
          "base_uri": "https://localhost:8080/"
        },
        "id": "mmQY8GbUuyxh",
        "outputId": "d03576e8-52e3-49ab-b41c-e2daf260c3ae"
      },
      "execution_count": 4,
      "outputs": [
        {
          "output_type": "execute_result",
          "data": {
            "text/plain": [
              "['A',\n",
              " 'book',\n",
              " 'is',\n",
              " 'a',\n",
              " 'medium',\n",
              " 'for',\n",
              " 'recording',\n",
              " 'information',\n",
              " 'in',\n",
              " 'the',\n",
              " 'form',\n",
              " 'of',\n",
              " 'writing',\n",
              " 'or',\n",
              " 'images',\n",
              " '.',\n",
              " 'Books',\n",
              " 'are',\n",
              " 'typically',\n",
              " 'composed',\n",
              " 'of',\n",
              " 'many',\n",
              " 'pages',\n",
              " ',',\n",
              " 'bound',\n",
              " 'together',\n",
              " 'and',\n",
              " 'protected',\n",
              " 'by',\n",
              " 'a',\n",
              " 'cover',\n",
              " '.',\n",
              " 'Modern',\n",
              " 'bound',\n",
              " 'books',\n",
              " 'were',\n",
              " 'preceded',\n",
              " 'by',\n",
              " 'many',\n",
              " 'other',\n",
              " 'written',\n",
              " 'mediums',\n",
              " ',',\n",
              " 'such',\n",
              " 'as',\n",
              " 'the',\n",
              " 'codex',\n",
              " 'and',\n",
              " 'the',\n",
              " 'scroll',\n",
              " '.',\n",
              " 'The',\n",
              " 'book',\n",
              " 'publishing',\n",
              " 'process',\n",
              " 'is',\n",
              " 'the',\n",
              " 'series',\n",
              " 'of',\n",
              " 'steps',\n",
              " 'involved',\n",
              " 'in',\n",
              " 'their',\n",
              " 'creation',\n",
              " 'and',\n",
              " 'dissemination',\n",
              " '.',\n",
              " 'As',\n",
              " 'a',\n",
              " 'conceptual',\n",
              " 'object',\n",
              " ',',\n",
              " 'a',\n",
              " 'book',\n",
              " 'typically',\n",
              " 'refers',\n",
              " 'to',\n",
              " 'a',\n",
              " 'written',\n",
              " 'work',\n",
              " 'of',\n",
              " 'substantial',\n",
              " 'length',\n",
              " ',',\n",
              " 'which',\n",
              " 'may',\n",
              " 'be',\n",
              " 'distributed',\n",
              " 'either',\n",
              " 'physically',\n",
              " 'or',\n",
              " 'in',\n",
              " 'digital',\n",
              " 'forms',\n",
              " 'like',\n",
              " 'ebooks',\n",
              " '.',\n",
              " 'These',\n",
              " 'works',\n",
              " 'are',\n",
              " 'broadly',\n",
              " 'classified',\n",
              " 'into',\n",
              " 'fiction',\n",
              " '(',\n",
              " 'containing',\n",
              " 'imaginary',\n",
              " 'content',\n",
              " ')',\n",
              " 'and',\n",
              " 'non-fiction',\n",
              " '(',\n",
              " 'containing',\n",
              " 'content',\n",
              " 'representing',\n",
              " 'truths',\n",
              " ')',\n",
              " '.',\n",
              " 'Many',\n",
              " 'smaller',\n",
              " 'categories',\n",
              " 'exist',\n",
              " 'within',\n",
              " 'these',\n",
              " ',',\n",
              " 'such',\n",
              " 'as',\n",
              " 'children',\n",
              " \"'s\",\n",
              " 'literature',\n",
              " 'meant',\n",
              " 'to',\n",
              " 'match',\n",
              " 'the',\n",
              " 'reading',\n",
              " 'level',\n",
              " 'and',\n",
              " 'interests',\n",
              " 'of',\n",
              " 'children',\n",
              " ',',\n",
              " 'or',\n",
              " 'reference',\n",
              " 'works',\n",
              " 'that',\n",
              " 'gather',\n",
              " 'collections',\n",
              " 'of',\n",
              " 'non-fiction',\n",
              " '.',\n",
              " 'Books',\n",
              " 'are',\n",
              " 'traded',\n",
              " 'at',\n",
              " 'both',\n",
              " 'regular',\n",
              " 'stores',\n",
              " 'and',\n",
              " 'specialized',\n",
              " 'bookstores',\n",
              " ',',\n",
              " 'and',\n",
              " 'people',\n",
              " 'can',\n",
              " 'borrow',\n",
              " 'them',\n",
              " 'from',\n",
              " 'libraries',\n",
              " '.',\n",
              " 'The',\n",
              " 'reception',\n",
              " 'of',\n",
              " 'books',\n",
              " 'has',\n",
              " 'led',\n",
              " 'to',\n",
              " 'a',\n",
              " 'number',\n",
              " 'of',\n",
              " 'social',\n",
              " 'consequences',\n",
              " ',',\n",
              " 'including',\n",
              " 'censorship',\n",
              " '.',\n",
              " 'A',\n",
              " 'physical',\n",
              " 'book',\n",
              " 'does',\n",
              " 'not',\n",
              " 'need',\n",
              " 'to',\n",
              " 'contain',\n",
              " 'written',\n",
              " 'works',\n",
              " ':',\n",
              " 'for',\n",
              " 'example',\n",
              " ',',\n",
              " 'it',\n",
              " 'may',\n",
              " 'contain',\n",
              " 'only',\n",
              " 'drawings',\n",
              " ',',\n",
              " 'engravings',\n",
              " ',',\n",
              " 'photographs',\n",
              " ',',\n",
              " 'puzzles',\n",
              " ',',\n",
              " 'or',\n",
              " 'removable',\n",
              " 'content',\n",
              " 'like',\n",
              " 'paper',\n",
              " 'dolls',\n",
              " '.',\n",
              " 'Physical',\n",
              " 'books',\n",
              " 'may',\n",
              " 'be',\n",
              " 'left',\n",
              " 'empty',\n",
              " 'to',\n",
              " 'be',\n",
              " 'used',\n",
              " 'for',\n",
              " 'writing',\n",
              " 'or',\n",
              " 'drawing',\n",
              " ',',\n",
              " 'such',\n",
              " 'as',\n",
              " 'account',\n",
              " 'books',\n",
              " ',',\n",
              " 'appointment',\n",
              " 'books',\n",
              " ',',\n",
              " 'autograph',\n",
              " 'books',\n",
              " ',',\n",
              " 'notebooks',\n",
              " ',',\n",
              " 'diaries',\n",
              " 'and',\n",
              " 'sketchbooks',\n",
              " '.']"
            ]
          },
          "metadata": {},
          "execution_count": 4
        }
      ]
    },
    {
      "cell_type": "code",
      "source": [
        "from nltk.stem import PorterStemmer\n",
        "from nltk.corpus import stopwords\n",
        "nltk.download('stopwords')"
      ],
      "metadata": {
        "colab": {
          "base_uri": "https://localhost:8080/"
        },
        "id": "-5abMdN_vWnW",
        "outputId": "dd8f759c-0334-4fe6-f517-92ca0f2c2a8c"
      },
      "execution_count": 5,
      "outputs": [
        {
          "output_type": "stream",
          "name": "stderr",
          "text": [
            "[nltk_data] Downloading package stopwords to /root/nltk_data...\n",
            "[nltk_data]   Unzipping corpora/stopwords.zip.\n"
          ]
        },
        {
          "output_type": "execute_result",
          "data": {
            "text/plain": [
              "True"
            ]
          },
          "metadata": {},
          "execution_count": 5
        }
      ]
    },
    {
      "cell_type": "code",
      "source": [
        "stemmer = PorterStemmer()\n",
        "\n",
        "#stemming\n",
        "for i in range(len(sentences)):\n",
        "  words = nltk.word_tokenize(sentences[i])\n",
        "  words = [stemmer.stem(word) for word in words if word not in set(stopwords.words('english'))]\n",
        "  sentences[i] = ' '.join(words)"
      ],
      "metadata": {
        "id": "ZOKiYNR4v3YE"
      },
      "execution_count": 6,
      "outputs": []
    },
    {
      "cell_type": "code",
      "source": [
        "sentences[1]"
      ],
      "metadata": {
        "colab": {
          "base_uri": "https://localhost:8080/",
          "height": 35
        },
        "id": "GiX9biFjw4cy",
        "outputId": "2f4416c7-49d1-4c54-a30e-84ea6a222a98"
      },
      "execution_count": 7,
      "outputs": [
        {
          "output_type": "execute_result",
          "data": {
            "text/plain": [
              "'book typic compos mani page , bound togeth protect cover .'"
            ],
            "application/vnd.google.colaboratory.intrinsic+json": {
              "type": "string"
            }
          },
          "metadata": {},
          "execution_count": 7
        }
      ]
    },
    {
      "cell_type": "code",
      "source": [],
      "metadata": {
        "id": "8rhVx-SJy8aj"
      },
      "execution_count": 7,
      "outputs": []
    },
    {
      "cell_type": "code",
      "source": [
        "from nltk.stem import WordNetLemmatizer\n",
        "nltk.download('wordnet')"
      ],
      "metadata": {
        "colab": {
          "base_uri": "https://localhost:8080/"
        },
        "id": "oqKadlHYxMy1",
        "outputId": "87e81ebf-b692-4ac8-992d-534fbd1b40d0"
      },
      "execution_count": 8,
      "outputs": [
        {
          "output_type": "stream",
          "name": "stderr",
          "text": [
            "[nltk_data] Downloading package wordnet to /root/nltk_data...\n"
          ]
        },
        {
          "output_type": "execute_result",
          "data": {
            "text/plain": [
              "True"
            ]
          },
          "metadata": {},
          "execution_count": 8
        }
      ]
    },
    {
      "cell_type": "code",
      "source": [
        "lemmatizer = WordNetLemmatizer()\n",
        "\n",
        "sentencess = nltk.sent_tokenize(paragraph)\n",
        "\n",
        "#lemmatization\n",
        "for i in range(len(sentencess)):\n",
        "  words = nltk.word_tokenize(sentences[i])\n",
        "  words = [lemmatizer.lemmatize(word) for word in words if word not in set(stopwords.words('english'))]\n",
        "  sentencess[i] = ' '.join(words)"
      ],
      "metadata": {
        "id": "njGd78AMxjBV"
      },
      "execution_count": 9,
      "outputs": []
    },
    {
      "cell_type": "code",
      "source": [
        "sentencess[1]"
      ],
      "metadata": {
        "colab": {
          "base_uri": "https://localhost:8080/",
          "height": 35
        },
        "id": "NNUnVl5Pye0y",
        "outputId": "3c5b2b3a-698a-4283-c0cb-4fc683f90432"
      },
      "execution_count": 10,
      "outputs": [
        {
          "output_type": "execute_result",
          "data": {
            "text/plain": [
              "'book typic compos mani page , bound togeth protect cover .'"
            ],
            "application/vnd.google.colaboratory.intrinsic+json": {
              "type": "string"
            }
          },
          "metadata": {},
          "execution_count": 10
        }
      ]
    },
    {
      "cell_type": "code",
      "source": [
        "#Cleaning the texts\n",
        "import re\n",
        "from nltk.corpus import stopwords\n",
        "from nltk.stem.porter import PorterStemmer\n",
        "from nltk.stem import WordNetLemmatizer\n",
        "\n",
        "ps = PorterStemmer()\n",
        "wordnet = WordNetLemmatizer()\n",
        "sentences = nltk.sent_tokenize(paragraph)\n",
        "corpus = []\n",
        "for i in range(len(sentences)):\n",
        "  review = re.sub('[^a-zA-Z]', ' ', sentences[i])\n",
        "  review = review.lower()\n",
        "  review = review.split()\n",
        "  review = [ps.stem(word) for word in review if not word in set(stopwords.words('english'))]\n",
        "  review = ' '.join(review)\n",
        "  corpus.append(review)\n",
        "\n",
        "#Creating the bag of words model\n",
        "from sklearn.feature_extraction.text import CountVectorizer\n",
        "cv = CountVectorizer(max_features = 1500)\n",
        "X = cv.fit_transform(corpus).toarray()"
      ],
      "metadata": {
        "id": "-1fAhY-fzLcr"
      },
      "execution_count": 11,
      "outputs": []
    },
    {
      "cell_type": "code",
      "source": [
        "X"
      ],
      "metadata": {
        "colab": {
          "base_uri": "https://localhost:8080/"
        },
        "id": "btvd-TTy4BuH",
        "outputId": "ac6fac25-ecb5-442a-c5f1-48212407fe69"
      },
      "execution_count": 12,
      "outputs": [
        {
          "output_type": "execute_result",
          "data": {
            "text/plain": [
              "array([[0, 0, 0, ..., 0, 1, 0],\n",
              "       [0, 0, 0, ..., 0, 0, 0],\n",
              "       [0, 0, 0, ..., 0, 0, 1],\n",
              "       ...,\n",
              "       [0, 0, 0, ..., 0, 0, 0],\n",
              "       [0, 0, 0, ..., 1, 0, 1],\n",
              "       [1, 1, 1, ..., 0, 1, 0]])"
            ]
          },
          "metadata": {},
          "execution_count": 12
        }
      ]
    },
    {
      "cell_type": "code",
      "source": [
        "sentencess = nltk.sent_tokenize(paragraph)\n",
        "corpus = []\n",
        "for i in range(len(sentencess)):\n",
        "  review = re.sub('[^a-zA-Z]', ' ', sentencess[i])\n",
        "  review = review.lower()\n",
        "  review = review.split()\n",
        "  review = [wordnet.lemmatize(word) for word in review if not word in set(stopwords.words('english'))]\n",
        "  review = ' '.join(review)\n",
        "  corpus.append(review)\n",
        "\n",
        "#Creating the TF-IDF model\n",
        "from sklearn.feature_extraction.text import TfidfVectorizer\n",
        "tf = TfidfVectorizer()\n",
        "X = tf.fit_transform(corpus).toarray()"
      ],
      "metadata": {
        "id": "zM2Nyy3X4IgF"
      },
      "execution_count": 13,
      "outputs": []
    },
    {
      "cell_type": "code",
      "source": [
        "X"
      ],
      "metadata": {
        "colab": {
          "base_uri": "https://localhost:8080/"
        },
        "id": "kRKUEMm243by",
        "outputId": "61829580-c6fe-41d4-abe5-acee9b75f00a"
      },
      "execution_count": 14,
      "outputs": [
        {
          "output_type": "execute_result",
          "data": {
            "text/plain": [
              "array([[0.        , 0.        , 0.        , ..., 0.        , 0.36881589,\n",
              "        0.        ],\n",
              "       [0.        , 0.        , 0.        , ..., 0.        , 0.        ,\n",
              "        0.        ],\n",
              "       [0.        , 0.        , 0.        , ..., 0.        , 0.        ,\n",
              "        0.28889213],\n",
              "       ...,\n",
              "       [0.        , 0.        , 0.        , ..., 0.        , 0.        ,\n",
              "        0.        ],\n",
              "       [0.        , 0.        , 0.        , ..., 0.16447161, 0.        ,\n",
              "        0.18404046],\n",
              "       [0.26147359, 0.26147359, 0.26147359, ..., 0.        , 0.22349811,\n",
              "        0.        ]])"
            ]
          },
          "metadata": {},
          "execution_count": 14
        }
      ]
    }
  ]
}